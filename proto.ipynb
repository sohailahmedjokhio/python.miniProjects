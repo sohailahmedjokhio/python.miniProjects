{
 "cells": [
  {
   "cell_type": "code",
   "execution_count": 4,
   "id": "317b05f1-0397-4fc7-bc31-5d36ba7d112e",
   "metadata": {},
   "outputs": [
    {
     "name": "stdout",
     "output_type": "stream",
     "text": [
      "['R', '5', '$', 'V', '6', 'c', 'Q', '7']\n"
     ]
    },
    {
     "data": {
      "text/plain": [
       "'VQ6$c7R5'"
      ]
     },
     "execution_count": 4,
     "metadata": {},
     "output_type": "execute_result"
    }
   ],
   "source": [
    "import random\n",
    "import string\n",
    "\n",
    "\n",
    "class InvalidPasswordLengthError(Exception):\n",
    "    pass\n",
    "\n",
    "\n",
    "\"\"\"\n",
    "Extend so that zero means none of that character class.\n",
    "\"\"\"\n",
    "def get_one_each_password(length, num_lower_letters, num_upper_letters, num_digits, num_punctuation):\n",
    "    total_required_length = num_lower_letters + + num_upper_letters + num_digits + num_punctuation\n",
    "    if total_required_length > length:\n",
    "        raise InvalidPasswordLengthError(f'total_required_length {total_required_length} exceeds length {length}')\n",
    "    required_lower_letters = random.choices(string.ascii_lowercase, k=num_lower_letters)\n",
    "    required_upper_letters = random.choices(string.ascii_uppercase, k=num_upper_letters)\n",
    "    required_digits = random.choices(string.digits, k=num_digits)\n",
    "    required_punctuation = random.choices(string.punctuation, k=num_punctuation)\n",
    "    material = (\n",
    "        random.choices(string.ascii_letters+string.digits+string.punctuation, k=length-total_required_length)\n",
    "        + required_lower_letters + required_upper_letters + required_digits + required_punctuation)\n",
    "    print(material)\n",
    "    password = ''.join(random.sample(material, length))\n",
    "    return password\n",
    "\n",
    "get_one_each_password(8, 1, 1, 1, 0)"
   ]
  },
  {
   "cell_type": "code",
   "execution_count": 13,
   "id": "9a8096fa-5198-42f3-8dab-c760a3af0fe0",
   "metadata": {},
   "outputs": [
    {
     "name": "stdout",
     "output_type": "stream",
     "text": [
      "total 72\n",
      "drwxrwxr-x 8 ed ed  4096 Sep  2 11:49 .\n",
      "drwxrwxr-x 4 ed ed  4096 Aug 31 11:32 ..\n",
      "drwxrwxr-x 8 ed ed  4096 Sep  2 11:35 .git\n",
      "-rw-rw-r-- 1 ed ed    58 Aug 31 11:33 .gitignore\n",
      "drwxrwxr-x 2 ed ed  4096 Sep  2 11:43 .ipynb_checkpoints\n",
      "drwxrwxr-x 3 ed ed  4096 Aug 26 11:52 .mypy_cache\n",
      "-rw-rw-r-- 1 ed ed  1757 Sep  2 11:35 password_gen.py\n",
      "drwxrwxr-x 2 ed ed  4096 Sep  2 11:48 __pycache__\n",
      "-rw-rw-r-- 1 ed ed 13992 Aug 24 11:21 pylintrc\n",
      "drwxrwxr-x 3 ed ed  4096 Aug 29 10:37 .pytest_cache\n",
      "-rw-rw-r-- 1 ed ed    21 Aug 22 06:29 README.md\n",
      "-rw-rw-r-- 1 ed ed   761 Sep  2 11:35 test_password_gen.py\n",
      "-rw-rw-r-- 1 ed ed  7105 Sep  2 11:49 Untitled.ipynb\n",
      "drwxrwxr-x 7 ed ed  4096 Sep  2 11:42 .venv\n"
     ]
    }
   ],
   "source": [
    "!ls -la"
   ]
  },
  {
   "cell_type": "code",
   "execution_count": 9,
   "id": "793773e1-a880-44ec-9f91-181fd5fb614b",
   "metadata": {},
   "outputs": [
    {
     "ename": "InvalidPasswordLengthError",
     "evalue": "total_required_length 3 exceeds length 2",
     "output_type": "error",
     "traceback": [
      "\u001b[0;31m---------------------------------------------------------------------------\u001b[0m",
      "\u001b[0;31mInvalidPasswordLengthError\u001b[0m                Traceback (most recent call last)",
      "Cell \u001b[0;32mIn[9], line 23\u001b[0m\n\u001b[1;32m     20\u001b[0m     password \u001b[38;5;241m=\u001b[39m \u001b[38;5;124m'\u001b[39m\u001b[38;5;124m'\u001b[39m\u001b[38;5;241m.\u001b[39mjoin(random\u001b[38;5;241m.\u001b[39msample(material, length))\n\u001b[1;32m     21\u001b[0m     \u001b[38;5;28;01mreturn\u001b[39;00m password\n\u001b[0;32m---> 23\u001b[0m \u001b[43mget_one_each_password\u001b[49m\u001b[43m(\u001b[49m\u001b[38;5;241;43m2\u001b[39;49m\u001b[43m,\u001b[49m\u001b[43m \u001b[49m\u001b[38;5;241;43m1\u001b[39;49m\u001b[43m,\u001b[49m\u001b[43m \u001b[49m\u001b[38;5;241;43m1\u001b[39;49m\u001b[43m,\u001b[49m\u001b[43m \u001b[49m\u001b[38;5;241;43m1\u001b[39;49m\u001b[43m)\u001b[49m\n",
      "Cell \u001b[0;32mIn[9], line 12\u001b[0m, in \u001b[0;36mget_one_each_password\u001b[0;34m(length, num_ascii_letters, num_digits, num_punctuation)\u001b[0m\n\u001b[1;32m     10\u001b[0m total_required_length \u001b[38;5;241m=\u001b[39m num_ascii_letters \u001b[38;5;241m+\u001b[39m num_digits \u001b[38;5;241m+\u001b[39m num_punctuation\n\u001b[1;32m     11\u001b[0m \u001b[38;5;28;01mif\u001b[39;00m total_required_length \u001b[38;5;241m>\u001b[39m length:\n\u001b[0;32m---> 12\u001b[0m     \u001b[38;5;28;01mraise\u001b[39;00m InvalidPasswordLengthError(\u001b[38;5;124mf\u001b[39m\u001b[38;5;124m'\u001b[39m\u001b[38;5;124mtotal_required_length \u001b[39m\u001b[38;5;132;01m{\u001b[39;00mtotal_required_length\u001b[38;5;132;01m}\u001b[39;00m\u001b[38;5;124m exceeds length \u001b[39m\u001b[38;5;132;01m{\u001b[39;00mlength\u001b[38;5;132;01m}\u001b[39;00m\u001b[38;5;124m'\u001b[39m)\n\u001b[1;32m     13\u001b[0m required_ascii_letters \u001b[38;5;241m=\u001b[39m random\u001b[38;5;241m.\u001b[39mchoices(string\u001b[38;5;241m.\u001b[39mascii_letters, k\u001b[38;5;241m=\u001b[39mnum_ascii_letters)\n\u001b[1;32m     14\u001b[0m required_digits \u001b[38;5;241m=\u001b[39m random\u001b[38;5;241m.\u001b[39mchoices(string\u001b[38;5;241m.\u001b[39mdigits, k\u001b[38;5;241m=\u001b[39mnum_digits)\n",
      "\u001b[0;31mInvalidPasswordLengthError\u001b[0m: total_required_length 3 exceeds length 2"
     ]
    }
   ],
   "source": [
    "import random\n",
    "import string\n",
    "\n",
    "\n",
    "class InvalidPasswordLengthError(Exception):\n",
    "    pass\n",
    "\n",
    "\n",
    "def get_one_each_password(length, num_ascii_letters, num_digits, num_punctuation):\n",
    "    total_required_length = num_ascii_letters + num_digits + num_punctuation\n",
    "    if total_required_length > length:\n",
    "        raise InvalidPasswordLengthError(f'total_required_length {total_required_length} exceeds length {length}')\n",
    "    required_ascii_letters = random.choices(string.ascii_letters, k=num_ascii_letters)\n",
    "    required_digits = random.choices(string.digits, k=num_digits)\n",
    "    required_punctuation = random.choices(string.punctuation, k=num_punctuation)\n",
    "    material = (\n",
    "        random.choices(string.ascii_letters+string.digits+string.punctuation, k=length-total_required_length)\n",
    "        + required_ascii_letters + required_digits + required_punctuation)\n",
    "    print(material)\n",
    "    password = ''.join(random.sample(material, length))\n",
    "    return password\n",
    "\n",
    "get_one_each_password(2, 1, 1, 1)"
   ]
  },
  {
   "cell_type": "code",
   "execution_count": null,
   "id": "03e676da-1c87-4ff1-8bc8-dd198d2474ed",
   "metadata": {},
   "outputs": [],
   "source": []
  }
 ],
 "metadata": {
  "kernelspec": {
   "display_name": "Python 3 (ipykernel)",
   "language": "python",
   "name": "python3"
  },
  "language_info": {
   "codemirror_mode": {
    "name": "ipython",
    "version": 3
   },
   "file_extension": ".py",
   "mimetype": "text/x-python",
   "name": "python",
   "nbconvert_exporter": "python",
   "pygments_lexer": "ipython3",
   "version": "3.10.12"
  }
 },
 "nbformat": 4,
 "nbformat_minor": 5
}
