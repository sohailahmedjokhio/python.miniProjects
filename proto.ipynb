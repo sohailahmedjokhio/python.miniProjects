{
 "cells": [
  {
   "cell_type": "code",
   "execution_count": 13,
   "id": "317b05f1-0397-4fc7-bc31-5d36ba7d112e",
   "metadata": {},
   "outputs": [
    {
     "name": "stdout",
     "output_type": "stream",
     "text": [
      "['j', 'B', 'X', 'Q', 'Y', '8', 'E', '+', 'K', '+', 'F', 'F', 'E', 'E', 'V', 'K', 'V', 'K', 'E', 'E']\n"
     ]
    },
    {
     "data": {
      "text/plain": [
       "'KK8KVFjYEFVEBXEEEQ++'"
      ]
     },
     "execution_count": 13,
     "metadata": {},
     "output_type": "execute_result"
    }
   ],
   "source": [
    "import random\n",
    "import string\n",
    "\n",
    "\n",
    "class InvalidPasswordLengthError(Exception):\n",
    "    pass\n",
    "\n",
    "\n",
    "def get_one_each_password(length, required_lower, required_upper, required_digits, required_punctuation):\n",
    "    total_required_length = required_lower + required_upper + required_digits + required_punctuation\n",
    "    if total_required_length > length:\n",
    "        raise InvalidPasswordLengthError(f'total_required_length {total_required_length} exceeds length {length}')\n",
    "    # Create required material list\n",
    "    required_material = []\n",
    "    if required_lower > 0: \n",
    "        required_material.extend(random.choices(string.ascii_lowercase, k=required_lower))\n",
    "    if required_upper > 0:\n",
    "        required_material.extend(random.choices(string.ascii_uppercase, k=required_upper))\n",
    "    if required_digits > 0:\n",
    "        required_material.extend(random.choices(string.digits, k=required_digits))\n",
    "    if required_punctuation > 0:\n",
    "        required_material.extend(random.choices(string.punctuation, k=required_punctuation))\n",
    "    # Create random list\n",
    "    random_material = []\n",
    "    if required_lower >= 0: \n",
    "        random_material.extend(random.choices(string.ascii_lowercase, k=required_lower))\n",
    "    if required_upper >= 0:\n",
    "        random_material.extend(random.choices(string.ascii_uppercase, k=required_upper))\n",
    "    if required_digits >= 0:\n",
    "        random_material.extend(random.choices(string.digits, k=required_digits))\n",
    "    if required_punctuation >= 0:\n",
    "        random_material.extend(random.choices(string.punctuation, k=required_lower))\n",
    "    required_material.extend(random.choices(random_material, k=length-total_required_length))\n",
    "    print(required_material)\n",
    "    password = ''.join(random.sample(required_material, length))\n",
    "    return password\n",
    "\n",
    "get_one_each_password(20, 1, 4, 1, 0)"
   ]
  },
  {
   "cell_type": "code",
   "execution_count": 23,
   "id": "abd1b268-865b-4001-8beb-68ae41ed117c",
   "metadata": {},
   "outputs": [
    {
     "name": "stdout",
     "output_type": "stream",
     "text": [
      "['d', 'O', 'T', 'W', 'H', '8', 'U', '3', 'd', '/']\n"
     ]
    },
    {
     "data": {
      "text/plain": [
       "'W3UT8/HOdd'"
      ]
     },
     "execution_count": 23,
     "metadata": {},
     "output_type": "execute_result"
    }
   ],
   "source": [
    "import random\n",
    "import string\n",
    "\n",
    "\n",
    "class InvalidPasswordLengthError(Exception):\n",
    "    pass\n",
    "\n",
    "\n",
    "class InvalidCharClassRequired(Exception):\n",
    "    pass\n",
    "\n",
    "\n",
    "class CharClass:\n",
    "    def __init__(self, num_required, char_class):\n",
    "        self.num_required = num_required\n",
    "        self.char_class = char_class\n",
    "\n",
    "\n",
    "def get_password_with_classes(length, char_classes):\n",
    "    total_required_length = 0\n",
    "    required_material = []\n",
    "    random_material = []\n",
    "    for char_class in char_classes:\n",
    "        char_class_required = char_class.num_required\n",
    "        total_required_length += char_class_required\n",
    "        if total_required_length > length:\n",
    "            raise InvalidPasswordLengthError(f'total_required_length {total_required_length} exceeds length {length}')\n",
    "        if char_class_required > 0:\n",
    "            required_material.extend(random.choices(char_class.char_class, k=char_class_required))\n",
    "        if char_class_required >= 0:\n",
    "            random_material.extend(char_class.char_class)\n",
    "        else:\n",
    "            raise(InvalidCharClassRequired(f'Number of reequired character class characters ({char_class_required}) is less than zero.'))\n",
    "    required_material.extend(random.choices(random_material, k=length-total_required_length))\n",
    "    print(required_material)\n",
    "    password = ''.join(random.sample(required_material, length))\n",
    "    return password\n",
    "\n",
    "\n",
    "char_classes = [\n",
    "    CharClass(1, string.ascii_lowercase),\n",
    "    CharClass(4, string.ascii_uppercase),\n",
    "    CharClass(1, string.digits),\n",
    "    CharClass(0, string.punctuation),\n",
    "]\n",
    "\n",
    "get_password_with_classes(10, char_classes)"
   ]
  },
  {
   "cell_type": "code",
   "execution_count": null,
   "id": "af0e8e52-e80a-4f80-a047-3b204d69d8dd",
   "metadata": {},
   "outputs": [],
   "source": []
  }
 ],
 "metadata": {
  "kernelspec": {
   "display_name": "Python 3 (ipykernel)",
   "language": "python",
   "name": "python3"
  },
  "language_info": {
   "codemirror_mode": {
    "name": "ipython",
    "version": 3
   },
   "file_extension": ".py",
   "mimetype": "text/x-python",
   "name": "python",
   "nbconvert_exporter": "python",
   "pygments_lexer": "ipython3",
   "version": "3.10.12"
  }
 },
 "nbformat": 4,
 "nbformat_minor": 5
}
