{
 "cells": [
  {
   "cell_type": "code",
   "execution_count": 9,
   "id": "317b05f1-0397-4fc7-bc31-5d36ba7d112e",
   "metadata": {},
   "outputs": [
    {
     "name": "stdout",
     "output_type": "stream",
     "text": [
      "['U', 'O', 'H', 'B', 'R', 'B', 'F', 'W', 'K', 'W', '8', '5', '0', '4', '8', '1', '8', '9', '6', '2', 'W', 'U']\n"
     ]
    },
    {
     "data": {
      "text/plain": [
       "'F80WBRK1U46U5BWO28H8'"
      ]
     },
     "execution_count": 9,
     "metadata": {},
     "output_type": "execute_result"
    }
   ],
   "source": [
    "import random\n",
    "import string\n",
    "\n",
    "\n",
    "class InvalidPasswordLengthError(Exception):\n",
    "    pass\n",
    "\n",
    "\n",
    "\"\"\"\n",
    "Extend so that zero means none of that character class.\n",
    "\"\"\"\n",
    "def get_one_each_password(length, required_lower, required_upper, required_digits, required_punctuation):\n",
    "    total_required_length = required_lower + required_upper + required_digits + required_punctuation\n",
    "    if total_required_length > length:\n",
    "        raise InvalidPasswordLengthError(f'total_required_length {total_required_length} exceeds length {length}')\n",
    "    # Create the required material list\n",
    "    required_material = []\n",
    "    if required_lower > 0: \n",
    "        required_material.extend(random.choices(string.ascii_lowercase, k=required_lower))\n",
    "    if required_upper > 0:\n",
    "        required_material.extend(random.choices(string.ascii_uppercase, k=required_upper))\n",
    "    if required_digits > 0:\n",
    "        required_material.extend(random.choices(string.digits, k=required_digits))\n",
    "    if required_punctuation > 0:\n",
    "        required_material.extend(random.choices(string.punctuation, k=required_punctuation))\n",
    "    # Create random list\n",
    "    random_material = []\n",
    "    if required_lower >= 0: \n",
    "        random_material.extend(random.choices(string.ascii_lowercase, k=required_lower))\n",
    "    if required_upper >= 0:\n",
    "        random_material.extend(random.choices(string.ascii_uppercase, k=required_upper))\n",
    "    if required_digits >= 0:\n",
    "        random_material.extend(random.choices(string.digits, k=required_digits))\n",
    "    if required_punctuation >= 0:\n",
    "        random_material.extend(random.choices(string.punctuation, k=required_punctuation))\n",
    "    required_material.extend(random.choices(random_material, k=length-total_required_length))\n",
    "    print(required_material)\n",
    "    password = ''.join(random.sample(required_material, length))\n",
    "    return password\n",
    "\n",
    "get_one_each_password(20, -1, 10, 10, -1)"
   ]
  },
  {
   "cell_type": "code",
   "execution_count": null,
   "id": "abd1b268-865b-4001-8beb-68ae41ed117c",
   "metadata": {},
   "outputs": [],
   "source": []
  },
  {
   "cell_type": "code",
   "execution_count": null,
   "id": "af0e8e52-e80a-4f80-a047-3b204d69d8dd",
   "metadata": {},
   "outputs": [],
   "source": []
  }
 ],
 "metadata": {
  "kernelspec": {
   "display_name": "Python 3 (ipykernel)",
   "language": "python",
   "name": "python3"
  },
  "language_info": {
   "codemirror_mode": {
    "name": "ipython",
    "version": 3
   },
   "file_extension": ".py",
   "mimetype": "text/x-python",
   "name": "python",
   "nbconvert_exporter": "python",
   "pygments_lexer": "ipython3",
   "version": "3.11.4"
  }
 },
 "nbformat": 4,
 "nbformat_minor": 5
}
