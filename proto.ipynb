{
 "cells": [
  {
   "cell_type": "code",
   "execution_count": 118,
   "id": "317b05f1-0397-4fc7-bc31-5d36ba7d112e",
   "metadata": {},
   "outputs": [
    {
     "name": "stdout",
     "output_type": "stream",
     "text": [
      "['I', 'P', 'L', 'T', 'D', 'I', 'K', '4']\n"
     ]
    },
    {
     "data": {
      "text/plain": [
       "'PT4DLIIK'"
      ]
     },
     "execution_count": 118,
     "metadata": {},
     "output_type": "execute_result"
    }
   ],
   "source": [
    "import random\n",
    "import string\n",
    "\n",
    "\n",
    "class InvalidPasswordLengthError(Exception):\n",
    "    pass\n",
    "\n",
    "\n",
    "\"\"\"\n",
    "Extend so that zero means none of that character class.\n",
    "\"\"\"\n",
    "def get_one_each_password(length, num_lower_letters, num_upper_letters, num_digits, num_punctuation):\n",
    "    total_required_length = num_lower_letters + num_upper_letters + num_digits + num_punctuation\n",
    "    if total_required_length > length:\n",
    "        raise InvalidPasswordLengthError(f'total_required_length {total_required_length} exceeds length {length}')\n",
    "    material = []\n",
    "    if num_lower_letters > 0: \n",
    "        material.extend(random.choices(string.ascii_lowercase, k=num_lower_letters))\n",
    "    if num_upper_letters > 0:\n",
    "        material.extend(random.choices(string.ascii_uppercase, k=num_upper_letters))\n",
    "    if num_digits > 0:\n",
    "        material.extend(random.choices(string.digits, k=num_digits))\n",
    "    if num_punctuation > 0:\n",
    "        material.extend(random.choices(string.punctuation, k=num_punctuation))\n",
    "    material.extend(random.choices(string.ascii_letters+string.digits+string.punctuation, k=length-total_required_length))\n",
    "    print(material)\n",
    "    password = ''.join(random.sample(material, length))\n",
    "    return password\n",
    "\n",
    "get_one_each_password(8, 0, 7, 1, 0)"
   ]
  },
  {
   "cell_type": "code",
   "execution_count": null,
   "id": "abd1b268-865b-4001-8beb-68ae41ed117c",
   "metadata": {},
   "outputs": [],
   "source": []
  },
  {
   "cell_type": "code",
   "execution_count": null,
   "id": "af0e8e52-e80a-4f80-a047-3b204d69d8dd",
   "metadata": {},
   "outputs": [],
   "source": []
  }
 ],
 "metadata": {
  "kernelspec": {
   "display_name": "Python 3 (ipykernel)",
   "language": "python",
   "name": "python3"
  },
  "language_info": {
   "codemirror_mode": {
    "name": "ipython",
    "version": 3
   },
   "file_extension": ".py",
   "mimetype": "text/x-python",
   "name": "python",
   "nbconvert_exporter": "python",
   "pygments_lexer": "ipython3",
   "version": "3.11.4"
  }
 },
 "nbformat": 4,
 "nbformat_minor": 5
}
